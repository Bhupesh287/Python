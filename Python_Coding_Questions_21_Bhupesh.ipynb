{
  "nbformat": 4,
  "nbformat_minor": 0,
  "metadata": {
    "colab": {
      "provenance": []
    },
    "kernelspec": {
      "name": "python3",
      "display_name": "Python 3"
    },
    "language_info": {
      "name": "python"
    }
  },
  "cells": [
    {
      "cell_type": "markdown",
      "source": [
        "##1.Write a program to find the factorial of a number."
      ],
      "metadata": {
        "id": "SpJrUzgCkN0i"
      }
    },
    {
      "cell_type": "code",
      "execution_count": null,
      "metadata": {
        "colab": {
          "base_uri": "https://localhost:8080/"
        },
        "id": "wijhIj8HjvX5",
        "outputId": "b1b4b109-991c-4fe1-e3f6-2b3d3a854a56"
      },
      "outputs": [
        {
          "output_type": "stream",
          "name": "stdout",
          "text": [
            "Enter a number: 3\n",
            "The factorial of 3 is 6\n"
          ]
        }
      ],
      "source": [
        "#using loop\n",
        "\n",
        "num = int(input(\"Enter a number: \"))\n",
        "\n",
        "factorial = 1\n",
        "if num < 0:\n",
        "   print(\"Factorial doesn't exist for negative numbers\")\n",
        "elif num == 0:\n",
        "   print(\"The factorial of 0 is 1\")\n",
        "else:\n",
        "   for i in range(1,num + 1):\n",
        "       factorial = factorial*i\n",
        "   print(\"The factorial of\",num,\"is\",factorial)"
      ]
    },
    {
      "cell_type": "code",
      "source": [
        "# using recursion\n",
        "\n",
        "def factorial(x):\n",
        "  if x == 1:\n",
        "    return 1\n",
        "  else:\n",
        "    return (x * factorial(x-1))\n",
        "\n",
        "\n",
        "num = int(input(\"Enter a number: \"))\n",
        "\n",
        "result = factorial(num)\n",
        "print(\"The factorial of\", num, \"is\", result)"
      ],
      "metadata": {
        "colab": {
          "base_uri": "https://localhost:8080/"
        },
        "id": "TFgBzH52lRrU",
        "outputId": "f88eada5-045d-4bfd-eda7-be08545dfc0c"
      },
      "execution_count": null,
      "outputs": [
        {
          "output_type": "stream",
          "name": "stdout",
          "text": [
            "Enter a number: 5\n",
            "The factorial of 5 is 120\n"
          ]
        }
      ]
    },
    {
      "cell_type": "markdown",
      "source": [
        "##2.Write a function to determine if a string is a palindrome."
      ],
      "metadata": {
        "id": "gnstShT_luQo"
      }
    },
    {
      "cell_type": "code",
      "source": [
        "#using slicing method\n",
        "\n",
        "def isPalindrome(s):\n",
        "    return s == s[::-1]\n",
        "\n",
        "s = input(\"Enter a String : \")\n",
        "ans = isPalindrome(s)\n",
        "  \n",
        "if ans:\n",
        "    print(\"Palindrome\")\n",
        "else:\n",
        "    print(\"Not a Palindrome\")"
      ],
      "metadata": {
        "colab": {
          "base_uri": "https://localhost:8080/"
        },
        "id": "eXY3lDyclRp4",
        "outputId": "3bc465d4-1dd2-40b7-808d-aeaa4352868f"
      },
      "execution_count": null,
      "outputs": [
        {
          "output_type": "stream",
          "name": "stdout",
          "text": [
            "Enter a String : xyz\n",
            "Not a Palindrome\n"
          ]
        }
      ]
    },
    {
      "cell_type": "code",
      "source": [
        "#using iterative method\n",
        "\n",
        "def isPalindrome(str):\n",
        "  \n",
        "    for i in range(0, int(len(str)/2)):\n",
        "        if str[i] != str[len(str)-i-1]:\n",
        "            return False\n",
        "    return True\n",
        "  \n",
        "s =input(\"Enter a String : \")\n",
        "ans = isPalindrome(s)\n",
        "  \n",
        "if (ans):\n",
        "    print(\"Palindrome\")\n",
        "else:\n",
        "    print(\"Not a Palindrome\")"
      ],
      "metadata": {
        "colab": {
          "base_uri": "https://localhost:8080/"
        },
        "id": "RgIbbYSLnFng",
        "outputId": "41953b39-b76b-4d39-d222-9e40015032e5"
      },
      "execution_count": null,
      "outputs": [
        {
          "output_type": "stream",
          "name": "stdout",
          "text": [
            "Enter a String : abccba\n",
            "Palindrome\n"
          ]
        }
      ]
    },
    {
      "cell_type": "markdown",
      "source": [
        "##3.Write a program to find the largest and smallest numbers in a list."
      ],
      "metadata": {
        "id": "90DQCTdgovUg"
      }
    },
    {
      "cell_type": "code",
      "source": [
        "#using sort() method\n",
        "\n",
        "list1 = [12,3,55,22,98,62,45,7]\n",
        " \n",
        "list1.sort()\n",
        "\n",
        "print(\"Smallest element is:\", list1[0])\n",
        "print(\"Largest element is:\", list1[-1])\n"
      ],
      "metadata": {
        "colab": {
          "base_uri": "https://localhost:8080/"
        },
        "id": "p4Od2-G6qc7J",
        "outputId": "b8a8ef55-1b54-43fb-8483-df4c3dab4e6e"
      },
      "execution_count": null,
      "outputs": [
        {
          "output_type": "stream",
          "name": "stdout",
          "text": [
            "Smallest element is: 3\n",
            "Largest element is: 98\n"
          ]
        }
      ]
    },
    {
      "cell_type": "code",
      "source": [
        "#using min() max() method\n",
        "\n",
        "l = []\n",
        "num = int(input('How many numbers: '))\n",
        "\n",
        "for n in range(num):\n",
        "  numbers = int(input('Enter number '))\n",
        "  l.append(numbers)\n",
        "\n",
        "print(\"Minimum element in the list is :\",min(l))\n",
        "print(\"Maximum element in the list is :\", max(l)) "
      ],
      "metadata": {
        "colab": {
          "base_uri": "https://localhost:8080/"
        },
        "id": "DkPImI80ozdJ",
        "outputId": "a3c9ceae-8e73-4a6f-9cca-c1185e409534"
      },
      "execution_count": null,
      "outputs": [
        {
          "output_type": "stream",
          "name": "stdout",
          "text": [
            "How many numbers: 3\n",
            "Enter number 1\n",
            "Enter number 12\n",
            "Enter number 55\n",
            "Minimum element in the list is : 1\n",
            "Maximum element in the list is : 55\n"
          ]
        }
      ]
    },
    {
      "cell_type": "code",
      "source": [
        "#using lambda function\n",
        "\n",
        "lst = [20, 10, 20, 1, 100]\n",
        "print(min(lst, key=lambda value: int(value)) )\n",
        "print(max(lst, key=lambda value: int(value)) )"
      ],
      "metadata": {
        "colab": {
          "base_uri": "https://localhost:8080/"
        },
        "id": "qN9aUc94rKOZ",
        "outputId": "e2cd169d-0e2a-4661-9602-07ea8e8e143d"
      },
      "execution_count": null,
      "outputs": [
        {
          "output_type": "stream",
          "name": "stdout",
          "text": [
            "1\n",
            "100\n"
          ]
        }
      ]
    },
    {
      "cell_type": "markdown",
      "source": [
        "##4.Write a function to reverse a string."
      ],
      "metadata": {
        "id": "iqLs1bC2rx0R"
      }
    },
    {
      "cell_type": "code",
      "source": [
        "#using loop\n",
        "\n",
        "def reverse(s):\n",
        "    str = \"\"\n",
        "    for i in s:\n",
        "        str = i + str\n",
        "    return str\n",
        " \n",
        "s =input(\"Enter a string : \")\n",
        " \n",
        "print(\"The original string is : \", end=\"\")\n",
        "print(s)\n",
        " \n",
        "print(\"The reversed string is : \", end=\"\")\n",
        "print(reverse(s))"
      ],
      "metadata": {
        "colab": {
          "base_uri": "https://localhost:8080/"
        },
        "id": "L7Ls5zIqr1aq",
        "outputId": "2d3fbab6-3f4d-4d18-9eeb-7e5ae8ab2e2a"
      },
      "execution_count": null,
      "outputs": [
        {
          "output_type": "stream",
          "name": "stdout",
          "text": [
            "Enter a string : bhupesh\n",
            "The original string is : bhupesh\n",
            "The reversed string is : hsepuhb\n"
          ]
        }
      ]
    },
    {
      "cell_type": "code",
      "source": [
        "# Function to reverse a string\n",
        "def reverse(string):\n",
        "    string = string[::-1]\n",
        "    return string\n",
        " \n",
        "s = \"Geeksforgeeks\"\n",
        " \n",
        "print(\"The original string is : \", end=\"\")\n",
        "print(s)\n",
        " \n",
        "print(\"The reversed string is : \", end=\"\")\n",
        "print(reverse(s))"
      ],
      "metadata": {
        "colab": {
          "base_uri": "https://localhost:8080/"
        },
        "id": "1kkTNAu5swf9",
        "outputId": "17dc674d-b7e5-4d36-a352-4ac4b548d58c"
      },
      "execution_count": null,
      "outputs": [
        {
          "output_type": "stream",
          "name": "stdout",
          "text": [
            "The original string is : Geeksforgeeks\n",
            "The reversed string is : skeegrofskeeG\n"
          ]
        }
      ]
    },
    {
      "cell_type": "markdown",
      "source": [
        "##5.Write a program to count the number of occurrences of a character in a string."
      ],
      "metadata": {
        "id": "I_qKfe1ewyiK"
      }
    },
    {
      "cell_type": "code",
      "source": [
        "#using loop\n",
        "\n",
        "test_str = \"GeeksforGeeks\"\n",
        "count = 0\n",
        " \n",
        "for i in test_str:\n",
        "    if i == 'e':\n",
        "        count = count + 1\n",
        "\n",
        "print (\"Count of e in GeeksforGeeks is : \"+ str(count))"
      ],
      "metadata": {
        "colab": {
          "base_uri": "https://localhost:8080/"
        },
        "id": "ymkL5ReLswep",
        "outputId": "31361ec8-5c5f-4846-d3b6-4b46634cd16f"
      },
      "execution_count": null,
      "outputs": [
        {
          "output_type": "stream",
          "name": "stdout",
          "text": [
            "Count of e in GeeksforGeeks is : 4\n"
          ]
        }
      ]
    },
    {
      "cell_type": "code",
      "source": [
        "#using count() method\n",
        "\n",
        "test_str = \"GeeksforGeeks\"\n",
        "\n",
        "counter = test_str.count('e')\n",
        " \n",
        "print (\"Count of e in GeeksforGeeks is : \" + str(counter))"
      ],
      "metadata": {
        "colab": {
          "base_uri": "https://localhost:8080/"
        },
        "id": "JbUk2NP9xpAi",
        "outputId": "9eb698d1-e9f5-47a7-86ba-31b4dc470e49"
      },
      "execution_count": null,
      "outputs": [
        {
          "output_type": "stream",
          "name": "stdout",
          "text": [
            "Count of e in GeeksforGeeks is : 4\n"
          ]
        }
      ]
    },
    {
      "cell_type": "code",
      "source": [
        "#using lambda + sum() + map()\n",
        "\n",
        "test_str = \"GeeksforGeeks\"\n",
        " \n",
        "count = sum(map(lambda x : 1 if 'e' in x else 0, test_str))\n",
        " \n",
        "print (\"Count of e in GeeksforGeeks is : \"+ str(count))"
      ],
      "metadata": {
        "colab": {
          "base_uri": "https://localhost:8080/"
        },
        "id": "rAhuR4s2ykn9",
        "outputId": "ddb6d753-907b-42a0-9c11-b0bfd378ea99"
      },
      "execution_count": null,
      "outputs": [
        {
          "output_type": "stream",
          "name": "stdout",
          "text": [
            "Count of e in GeeksforGeeks is : 4\n"
          ]
        }
      ]
    },
    {
      "cell_type": "markdown",
      "source": [
        "##6.Write a function to check if a number is prime."
      ],
      "metadata": {
        "id": "v0h3YWRoy5NU"
      }
    },
    {
      "cell_type": "code",
      "source": [
        "def isprime(num):\n",
        "  flag=0\n",
        "  for i in range(2,num):\n",
        "    if num%i==0:\n",
        "      flag=flag+1\n",
        "      print(\"Not a prime number\")\n",
        "      break\n",
        "  print(\"Prime number\")\n",
        "\n",
        "num=int(input(\"Enter a number : \"))\n",
        "isprime(num)  "
      ],
      "metadata": {
        "colab": {
          "base_uri": "https://localhost:8080/"
        },
        "id": "v6OmrqRqzBhj",
        "outputId": "ec4f6f95-8fce-4509-b421-b52efb8a3ed0"
      },
      "execution_count": null,
      "outputs": [
        {
          "output_type": "stream",
          "name": "stdout",
          "text": [
            "Enter a number : 10\n",
            "Not a prime number\n",
            "Prime number\n"
          ]
        }
      ]
    },
    {
      "cell_type": "markdown",
      "source": [
        "##7.Write a program to find the sum of all the elements in a list."
      ],
      "metadata": {
        "id": "VoAl8_h41Hl1"
      }
    },
    {
      "cell_type": "code",
      "source": [
        "list1=[1,2,3,4,5]\n",
        "sum=0\n",
        "for i in list1:\n",
        "  sum=sum+i\n",
        "print(\"Sum of all element is \",sum)  "
      ],
      "metadata": {
        "colab": {
          "base_uri": "https://localhost:8080/"
        },
        "id": "TgXNXqcW1L_U",
        "outputId": "42f88cde-713d-4a7a-d674-7fb41dbbcbf8"
      },
      "execution_count": null,
      "outputs": [
        {
          "output_type": "stream",
          "name": "stdout",
          "text": [
            "Sum of all element is  15\n"
          ]
        }
      ]
    },
    {
      "cell_type": "code",
      "source": [
        "list1=[1,2,3,4,5]\n",
        "sum=0\n",
        "for i in range(0,len(list1)):\n",
        "  sum=sum+list1[i]\n",
        "print(\"Sum of all element is \",sum)  "
      ],
      "metadata": {
        "colab": {
          "base_uri": "https://localhost:8080/"
        },
        "id": "HCWkLGFU2Bz8",
        "outputId": "7b49de34-a4c0-463e-da6b-66e3352fb8c7"
      },
      "execution_count": null,
      "outputs": [
        {
          "output_type": "stream",
          "name": "stdout",
          "text": [
            "Sum of all element is  15\n"
          ]
        }
      ]
    },
    {
      "cell_type": "markdown",
      "source": [
        "##8.Write a function to sort a list of integers in ascending or descending order."
      ],
      "metadata": {
        "id": "ZIsira713RDi"
      }
    },
    {
      "cell_type": "code",
      "source": [
        "#using .sort() method ------it modify original list\n",
        "\n",
        "list1=[12,22,3,48,50]\n",
        "list1.sort()                       \n",
        "print(\"list in ascending order \",list1)\n",
        "list1.sort(reverse=True)\n",
        "print(\"list in descending order \",list1)"
      ],
      "metadata": {
        "colab": {
          "base_uri": "https://localhost:8080/"
        },
        "id": "Ob0B51w83Vyk",
        "outputId": "aff3d1cb-8f0c-42f3-fd3a-f9b4305fe7fa"
      },
      "execution_count": null,
      "outputs": [
        {
          "output_type": "stream",
          "name": "stdout",
          "text": [
            "list in ascending order  [3, 12, 22, 48, 50]\n",
            "list in descending order  [50, 48, 22, 12, 3]\n"
          ]
        }
      ]
    },
    {
      "cell_type": "code",
      "source": [
        "#using sorted() function-------it does not affect original list\n",
        "\n",
        "list1=[12,22,3,48,50]\n",
        "list2=sorted(list1)\n",
        "print(list1)\n",
        "print(list2)"
      ],
      "metadata": {
        "colab": {
          "base_uri": "https://localhost:8080/"
        },
        "id": "sjgorRPc4q3C",
        "outputId": "c3850def-6cb4-46b3-8fd4-b2d0f7991976"
      },
      "execution_count": null,
      "outputs": [
        {
          "output_type": "stream",
          "name": "stdout",
          "text": [
            "[12, 22, 3, 48, 50]\n",
            "[3, 12, 22, 48, 50]\n"
          ]
        }
      ]
    },
    {
      "cell_type": "markdown",
      "source": [
        "##9.Write a program to find the length of the longest common prefix in a list of strings."
      ],
      "metadata": {
        "id": "GdgHILiI6Ds8"
      }
    },
    {
      "cell_type": "code",
      "source": [],
      "metadata": {
        "id": "YpR8GuYJ91MN"
      },
      "execution_count": null,
      "outputs": []
    },
    {
      "cell_type": "markdown",
      "source": [
        "##10.Write a function to calculate the nth Fibonacci number."
      ],
      "metadata": {
        "id": "VzqUaUok-RJ1"
      }
    },
    {
      "cell_type": "code",
      "source": [
        "#using recursion\n",
        "\n",
        "def fibo(n):\n",
        "  if n==0:\n",
        "    return 0\n",
        "  elif n==1:\n",
        "    return 1\n",
        "  else:\n",
        "    return fibo(n-1) + fibo(n-2)   \n",
        "\n",
        "n=int(input(\"Enter a number :\")) \n",
        "print(\"recursion value of \",n,\" is \",fibo(n))   "
      ],
      "metadata": {
        "colab": {
          "base_uri": "https://localhost:8080/"
        },
        "id": "DDaWHO_V-VUs",
        "outputId": "b0cae0f7-bb8b-4523-f263-4090e520de8d"
      },
      "execution_count": null,
      "outputs": [
        {
          "output_type": "stream",
          "name": "stdout",
          "text": [
            "Enter a number :10\n",
            "recursion value of  10  is  55\n"
          ]
        }
      ]
    },
    {
      "cell_type": "code",
      "source": [
        "#using iteration\n",
        "\n",
        "def fibo(n):\n",
        "  pren=0\n",
        "  currentn=1\n",
        "  for i in range(1,n):\n",
        "    prepren=pren\n",
        "    pren=currentn\n",
        "    currentn=pren+prepren\n",
        "  return currentn  \n",
        "\n",
        "n=int(input(\"Enter a number :\")) \n",
        "print(\"recursion value of \",n,\" is \",fibo(n)) "
      ],
      "metadata": {
        "colab": {
          "base_uri": "https://localhost:8080/"
        },
        "id": "hbpsF1hEDDod",
        "outputId": "038dfe7b-10a8-4ddf-e4d9-c10bf9712eec"
      },
      "execution_count": null,
      "outputs": [
        {
          "output_type": "stream",
          "name": "stdout",
          "text": [
            "Enter a number :10\n",
            "recursion value of  10  is  55\n"
          ]
        }
      ]
    },
    {
      "cell_type": "markdown",
      "source": [
        "##11.Write a program to remove duplicates from a list."
      ],
      "metadata": {
        "id": "GfcRQBtHEQ1I"
      }
    },
    {
      "cell_type": "code",
      "source": [
        "#using loop\n",
        "\n",
        "list1=[10,20,30,40,50,20,40]\n",
        "uniquelist=[]\n",
        "\n",
        "for n in list1:\n",
        "  if n not in uniquelist:\n",
        "    uniquelist.append(n)\n",
        "\n",
        "print(list1)    \n",
        "print(uniquelist)    "
      ],
      "metadata": {
        "colab": {
          "base_uri": "https://localhost:8080/"
        },
        "id": "UAiDpAMOEVzd",
        "outputId": "147d7b40-6ec3-4b6a-a09d-9a57c52ae556"
      },
      "execution_count": null,
      "outputs": [
        {
          "output_type": "stream",
          "name": "stdout",
          "text": [
            "[10, 20, 30, 40, 50, 20, 40]\n",
            "[10, 20, 30, 40, 50]\n"
          ]
        }
      ]
    },
    {
      "cell_type": "code",
      "source": [
        "#converting list to set\n",
        "\n",
        "list1=[10,20,30,40,50,20,40]\n",
        "uniquelist=list(set(list1))\n",
        "print(list1)\n",
        "print(uniquelist)"
      ],
      "metadata": {
        "colab": {
          "base_uri": "https://localhost:8080/"
        },
        "id": "XK9IDaNwFth3",
        "outputId": "5a9241f8-6684-4565-b58b-6125579e2cc8"
      },
      "execution_count": null,
      "outputs": [
        {
          "output_type": "stream",
          "name": "stdout",
          "text": [
            "[10, 20, 30, 40, 50, 20, 40]\n",
            "[40, 10, 50, 20, 30]\n"
          ]
        }
      ]
    },
    {
      "cell_type": "code",
      "source": [
        "#using list comprehension\n",
        "\n",
        "list1 = [10,20,30,40,50,20,40]\n",
        "mylist = [ list1[i] for i in range(len(list1)) if list1.index(list1[i]) == i]\n",
        "print(mylist)"
      ],
      "metadata": {
        "colab": {
          "base_uri": "https://localhost:8080/"
        },
        "id": "hglTbHpFG1n4",
        "outputId": "7534c6b8-72dc-47fa-aad1-5d06731da216"
      },
      "execution_count": null,
      "outputs": [
        {
          "output_type": "stream",
          "name": "stdout",
          "text": [
            "[10, 20, 30, 40, 50]\n"
          ]
        }
      ]
    },
    {
      "cell_type": "markdown",
      "source": [
        "##12.Write a function to calculate the factorial of a number using recursion."
      ],
      "metadata": {
        "id": "59j3ezWMHXzh"
      }
    },
    {
      "cell_type": "code",
      "source": [
        "def fact(n):\n",
        "  if n<0:\n",
        "    print(\"Factorial of negative number doesn't exist\")\n",
        "  elif n==1:\n",
        "    return 1\n",
        "  else:\n",
        "    return n*fact(n-1)\n",
        "\n",
        "n=int(input(\"Enter a number : \"))\n",
        "print(\"Factorial of \",n,\"is \",fact(n))        "
      ],
      "metadata": {
        "colab": {
          "base_uri": "https://localhost:8080/"
        },
        "id": "FlmSUO2RHcjZ",
        "outputId": "3ebab15d-0fa5-4c29-ae21-616281a93786"
      },
      "execution_count": null,
      "outputs": [
        {
          "output_type": "stream",
          "name": "stdout",
          "text": [
            "Enter a number : 5\n",
            "Factorial of  5 is  120\n"
          ]
        }
      ]
    },
    {
      "cell_type": "markdown",
      "source": [
        "##13.Write a program to check if a number is an Armstrong number."
      ],
      "metadata": {
        "id": "HZmxqtNxO1aw"
      }
    },
    {
      "cell_type": "code",
      "source": [
        "#Number is said to be armstrong if the sum of cubes of each digit is equal to the number itself. \n",
        "#For example: 153     (1*1*1)+(5*5*5)+(3*3*3)     1+125+27=153\n",
        "\n",
        "num = int(input(\"Enter a number: \"))\n",
        "\n",
        "sum = 0\n",
        "temp = num\n",
        "\n",
        "while temp > 0:\n",
        "   digit = temp % 10\n",
        "   sum += digit ** 3\n",
        "   temp //= 10\n",
        "\n",
        "if num == sum:\n",
        "   print(num,\"is an Armstrong number\")\n",
        "else:\n",
        "   print(num,\"is not an Armstrong number\")"
      ],
      "metadata": {
        "colab": {
          "base_uri": "https://localhost:8080/"
        },
        "id": "UoUp3YPgO6FP",
        "outputId": "468bbcb0-5304-4d72-e510-cf12bcddcdf1"
      },
      "execution_count": null,
      "outputs": [
        {
          "output_type": "stream",
          "name": "stdout",
          "text": [
            "Enter a number: 153\n",
            "153 is an Armstrong number\n"
          ]
        }
      ]
    },
    {
      "cell_type": "markdown",
      "source": [
        "##14.Write a function to check if a string is a valid palindrome ignoring white space and punctuation."
      ],
      "metadata": {
        "id": "kOD8Y0mqQHMx"
      }
    },
    {
      "cell_type": "code",
      "source": [
        "s=input(\"Enter a string : \")\n",
        "rev=s[::-1]\n",
        "if rev==s:\n",
        "  print(\"Palindrome\")\n",
        "else:\n",
        "  print(\"Not a Palindrome\")\n"
      ],
      "metadata": {
        "colab": {
          "base_uri": "https://localhost:8080/"
        },
        "id": "KsbP0taVQMJH",
        "outputId": "d8838df7-fb26-437d-9935-d9f1b0fc7647"
      },
      "execution_count": null,
      "outputs": [
        {
          "output_type": "stream",
          "name": "stdout",
          "text": [
            "Enter a string : madam\n",
            "Palindrome\n"
          ]
        }
      ]
    },
    {
      "cell_type": "code",
      "source": [],
      "metadata": {
        "id": "a4sV0QVgW14a"
      },
      "execution_count": null,
      "outputs": []
    },
    {
      "cell_type": "markdown",
      "source": [
        "##15.Write a program to calculate the average of a list of numbers."
      ],
      "metadata": {
        "id": "Mxho9eN3W2jz"
      }
    },
    {
      "cell_type": "code",
      "source": [
        "def Average(lst):\n",
        "  return sum(lst) / len(lst)\n",
        " \n",
        "# Driver Code\n",
        "lst = [15, 9, 55, 41, 35, 20, 62, 49]\n",
        "average = Average(lst)\n",
        " \n",
        "# Printing average of the list\n",
        "print(\"Average of the list =\", round(average, 2))"
      ],
      "metadata": {
        "id": "dJKyljBqhi2B"
      },
      "execution_count": null,
      "outputs": []
    }
  ]
}